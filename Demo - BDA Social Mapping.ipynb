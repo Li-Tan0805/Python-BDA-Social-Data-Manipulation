{
 "cells": [
  {
   "cell_type": "code",
   "execution_count": 16,
   "metadata": {},
   "outputs": [],
   "source": [
    "import glob\n",
    "import os\n",
    "import pandas as pd\n",
    "#import pandas_profiling"
   ]
  },
  {
   "cell_type": "code",
   "execution_count": 17,
   "metadata": {},
   "outputs": [],
   "source": [
    "def fb_imp(data):\n",
    "    data.columns = data.columns.str.replace(' ', '')\n",
    "    data_agg = data.groupby(['x_account_name','x_campaign_name'], as_index=False).agg({'ap_total_imp':'sum'})\n",
    "    return data_agg\n",
    "\n",
    "def fb_cost(data):\n",
    "    data.columns = data.columns.str.replace(' ', '')\n",
    "    data_agg = data.groupby(['x_account_name','x_campaign_name'], as_index=False).agg({'ap_total_usd_spd':'sum'})\n",
    "    return data_agg\n",
    "\n",
    "def fb_imp_agg(data_list):\n",
    "    for each_file in data_list:        \n",
    "        read_file = pd.read_csv(each_file)\n",
    "        if each_file == data_list[0]:\n",
    "            imp_master_file = read_file\n",
    "        else:\n",
    "            imp_master_file = imp_master_file.append(read_file)\n",
    "        print (each_file + ' -- done!')\n",
    "    return fb_imp(imp_master_file)   \n",
    "\n",
    "def fb_spd_agg(data_list):\n",
    "    for each_file in data_list:\n",
    "        read_file = pd.read_csv(each_file)\n",
    "        if each_file == data_list[0]:\n",
    "            spd_master_file = read_file\n",
    "        else:\n",
    "            spd_master_file = spd_master_file.append(read_file)\n",
    "        print (each_file + ' -- done!')\n",
    "    return fb_cost(spd_master_file)\n",
    "\n",
    "def pt_agg(all_files):\n",
    "    for each_file in all_files:\n",
    "        data = pd.read_csv(each_file)\n",
    "        data = data.replace('\\\\N',0)\n",
    "        data['Total Spend'] = pd.to_numeric(data['Total Spend'])\n",
    "        data_agg = data.groupby(['Advertiser', 'Campaign Name'], as_index = False).agg({'Total Spend': 'sum','Total Impressions': 'sum'})\n",
    "        if each_file == all_files[0]:\n",
    "            master_file = data_agg\n",
    "        else:\n",
    "            master_file = master_file.append(data_agg) \n",
    "        print (each_file + ' -- done!')\n",
    "    return master_file\n"
   ]
  },
  {
   "cell_type": "code",
   "execution_count": 27,
   "metadata": {},
   "outputs": [],
   "source": [
    "# Find path for each file\n",
    "\n",
    "FB_path = \"C:\\\\File\\\\BDA Mapping\\\\FY20 JFM\\\\Social\\\\Facebook\"\n",
    "PT_path = \"C:\\\\File\\\\BDA Mapping\\\\FY20 JFM\\\\Social\\\\Pinterest\"\n",
    "PT_search_path = 'C:\\\\File\\\\BDA Mapping\\\\FY20 JFM\\\\Social\\\\Pinterest\\\\Search'\n",
    "TW_path = 'C:\\\\File\\\\BDA Mapping\\\\FY20 JFM\\\\Social\\\\Twitter'\n",
    "SC_path = 'C:\\\\File\\\\BDA Mapping\\\\FY20 JFM\\\\Social\\\\Snapchat'"
   ]
  },
  {
   "cell_type": "code",
   "execution_count": 22,
   "metadata": {
    "scrolled": true
   },
   "outputs": [
    {
     "name": "stdout",
     "output_type": "stream",
     "text": [
      "Brita_Impressions.csv -- done!\n",
      "Burts Bees_Impressions.csv -- done!\n",
      "Clorox_Impressions.csv -- done!\n",
      "Fresh Step_Impressions.csv -- done!\n",
      "Glad_Impressions.csv -- done!\n",
      "Hidden Valley_Impressions.csv -- done!\n",
      "Kingsford_Impressions.csv -- done!\n",
      "Liquid Plumr_Impressions.csv -- done!\n",
      "Natural Vitality_Impressions.csv -- done!\n",
      "Pine Sol_Impressions.csv -- done!\n",
      "Rainbow Light_Impressions.csv -- done!\n",
      "Renew Life_Impressions.csv -- done!\n",
      "Scoop Away_Impressions.csv -- done!\n",
      "Brita_Spend.csv -- done!\n",
      "Burts Bees_Spend.csv -- done!\n",
      "Clorox_Spend.csv -- done!\n",
      "Fresh Step_Spend.csv -- done!\n",
      "Glad_Spend.csv -- done!\n",
      "Hidden Valley_Spend.csv -- done!\n",
      "Kingsford_Spend.csv -- done!\n",
      "Liquid Plumr_Spend.csv -- done!\n",
      "Natural Vitality_Spend.csv -- done!\n",
      "Pine Sol_Spend.csv -- done!\n",
      "Rainbow Light_Spend.csv -- done!\n",
      "Renew Life_Spend.csv -- done!\n",
      "Scoop Away_Spend.csv -- done!\n"
     ]
    }
   ],
   "source": [
    "# FB\n",
    "os.chdir(FB_path)\n",
    "fb_imp_files = glob.glob(\"*Imp*\")\n",
    "fb_spd_files = glob.glob(\"*Spend*\") \n",
    "fb_imp_master = fb_imp_agg(fb_imp_files)\n",
    "fb_spd_master = fb_spd_agg(fb_spd_files)\n",
    "fb_master = fb_spd_master\n",
    "fb_master['ap_total_imp'] = fb_imp_master['ap_total_imp']\n",
    "fb_master.columns = ['Brand','Campaign Name','Total Spend','Total Imp']\n",
    "fb_master['cpm'] = fb_master['Total Spend'] / fb_master['Total Imp'] * 1000\n",
    "fb_master['Platform'] = 'Facebook'"
   ]
  },
  {
   "cell_type": "code",
   "execution_count": 23,
   "metadata": {
    "scrolled": true
   },
   "outputs": [
    {
     "name": "stdout",
     "output_type": "stream",
     "text": [
      "Burt's Bees Social_MMMPaidEarnedReport_549755829602_2019-12-16_2020-03-15.csv -- done!\n",
      "Clorox Social_MMMPaidEarnedReport_549755892730_2019-12-16_2020-03-15.csv -- done!\n",
      "Glad Social_MMMPaidEarnedReport_549755885779_2019-12-16_2020-03-15.csv -- done!\n"
     ]
    },
    {
     "name": "stderr",
     "output_type": "stream",
     "text": [
      "C:\\Software\\Anaconda3\\lib\\site-packages\\IPython\\core\\interactiveshell.py:2903: DtypeWarning: Columns (5,12) have mixed types. Specify dtype option on import or set low_memory=False.\n",
      "  if self.run_code(code, result):\n"
     ]
    },
    {
     "name": "stdout",
     "output_type": "stream",
     "text": [
      "Hidden Valley Social_MMMPaidEarnedReport_549755819303_2019-12-16_2020-03-15.csv -- done!\n",
      "Kingsford Social_MMMPaidEarnedReport_549756092975_2019-12-16_2020-03-15.csv -- done!\n",
      "Natural Vitality Social_MMMPaidEarnedReport_549755907776_2019-12-16_2020-03-15.csv -- done!\n",
      "NeoCell Social_MMMPaidEarnedReport_549756685542_2019-12-16_2020-03-15.csv -- done!\n",
      "Renew Life Social_MMMPaidEarnedReport_549756335517_2019-12-16_2020-03-15.csv -- done!\n"
     ]
    }
   ],
   "source": [
    "# Pinterest Social\n",
    "os.chdir(PT_path)\n",
    "pt_files = glob.glob('*csv')\n",
    "pt_master = pt_agg(pt_files)\n",
    "pt_master['cpm'] = pt_master['Total Spend'] / pt_master['Total Impressions'] * 1000\n",
    "pt_master['Platform'] = 'Pinterest'"
   ]
  },
  {
   "cell_type": "code",
   "execution_count": 24,
   "metadata": {},
   "outputs": [
    {
     "name": "stdout",
     "output_type": "stream",
     "text": [
      "Burt's Bees Search_MMMPaidEarnedReport_549756208944_2019-12-16_2020-03-15.csv -- done!\n"
     ]
    },
    {
     "name": "stderr",
     "output_type": "stream",
     "text": [
      "C:\\Software\\Anaconda3\\lib\\site-packages\\IPython\\core\\interactiveshell.py:2903: DtypeWarning: Columns (5) have mixed types. Specify dtype option on import or set low_memory=False.\n",
      "  if self.run_code(code, result):\n"
     ]
    },
    {
     "name": "stdout",
     "output_type": "stream",
     "text": [
      "Clorox Search_MMMPaidEarnedReport_549756276483_2019-12-16_2020-03-15.csv -- done!\n"
     ]
    },
    {
     "name": "stderr",
     "output_type": "stream",
     "text": [
      "C:\\Software\\Anaconda3\\lib\\site-packages\\IPython\\core\\interactiveshell.py:2903: DtypeWarning: Columns (5,10,11,12,18,19) have mixed types. Specify dtype option on import or set low_memory=False.\n",
      "  if self.run_code(code, result):\n"
     ]
    },
    {
     "name": "stdout",
     "output_type": "stream",
     "text": [
      "Glad Search_MMMPaidEarnedReport_549756480529_2019-12-16_2020-03-15.csv -- done!\n"
     ]
    },
    {
     "name": "stderr",
     "output_type": "stream",
     "text": [
      "C:\\Software\\Anaconda3\\lib\\site-packages\\IPython\\core\\interactiveshell.py:2903: DtypeWarning: Columns (5,12) have mixed types. Specify dtype option on import or set low_memory=False.\n",
      "  if self.run_code(code, result):\n"
     ]
    },
    {
     "name": "stdout",
     "output_type": "stream",
     "text": [
      "Hidden Valley Search_MMMPaidEarnedReport_549756486286_2019-12-16_2020-03-15.csv -- done!\n"
     ]
    },
    {
     "name": "stderr",
     "output_type": "stream",
     "text": [
      "C:\\Software\\Anaconda3\\lib\\site-packages\\IPython\\core\\interactiveshell.py:2903: DtypeWarning: Columns (12) have mixed types. Specify dtype option on import or set low_memory=False.\n",
      "  if self.run_code(code, result):\n"
     ]
    },
    {
     "name": "stdout",
     "output_type": "stream",
     "text": [
      "Kingsford Search_MMMPaidEarnedReport_549756823491_2019-12-16_2020-03-15.csv -- done!\n"
     ]
    }
   ],
   "source": [
    "# Pinterest Search\n",
    "os.chdir(PT_search_path)\n",
    "pt_search_files = glob.glob('*csv')\n",
    "pt_search_master = pt_agg(pt_search_files)\n",
    "pt_search_master['cpm'] = pt_search_master['Total Spend'] / pt_search_master['Total Impressions'] * 1000\n",
    "pt_search_master['Platform'] = 'Pinterest Search'"
   ]
  },
  {
   "cell_type": "code",
   "execution_count": 29,
   "metadata": {},
   "outputs": [],
   "source": [
    "# Output\n",
    "output_path = 'C:\\\\File\\\\BDA Mapping\\\\FY20 JFM\\\\Social\\\\Output'\n",
    "os.chdir(output_path)\n",
    "fb_master.to_csv('Facebook Master.csv', index=False)\n",
    "pt_master.to_csv('Pinterest Master.csv', index=False)\n",
    "pt_search_master.to_csv('Pinterest Search.csv',index=False)"
   ]
  },
  {
   "cell_type": "code",
   "execution_count": null,
   "metadata": {},
   "outputs": [],
   "source": []
  }
 ],
 "metadata": {
  "kernelspec": {
   "display_name": "Python 3",
   "language": "python",
   "name": "python3"
  },
  "language_info": {
   "codemirror_mode": {
    "name": "ipython",
    "version": 3
   },
   "file_extension": ".py",
   "mimetype": "text/x-python",
   "name": "python",
   "nbconvert_exporter": "python",
   "pygments_lexer": "ipython3",
   "version": "3.6.5"
  }
 },
 "nbformat": 4,
 "nbformat_minor": 2
}
